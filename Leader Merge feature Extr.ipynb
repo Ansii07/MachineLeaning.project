{
 "cells": [
  {
   "cell_type": "code",
   "execution_count": 1,
   "id": "2ac6351e",
   "metadata": {},
   "outputs": [],
   "source": [
    "import pandas as pd\n",
    "from sklearn.feature_extraction.text import CountVectorizer"
   ]
  },
  {
   "cell_type": "code",
   "execution_count": 2,
   "id": "ef855f44",
   "metadata": {},
   "outputs": [],
   "source": [
    "df = pd.read_csv(\"C:\\\\Users\\\\Shubham\\\\Desktop\\\\New Merge leader\\\\Amit Shah merge.csv\")"
   ]
  },
  {
   "cell_type": "code",
   "execution_count": 3,
   "id": "af64dc0c",
   "metadata": {},
   "outputs": [],
   "source": [
    "# text_data = df['score'].tolist()"
   ]
  },
  {
   "cell_type": "code",
   "execution_count": 4,
   "id": "1aa1c6a9",
   "metadata": {},
   "outputs": [],
   "source": [
    "# vectorizer = CountVectorizer()"
   ]
  },
  {
   "cell_type": "code",
   "execution_count": 5,
   "id": "1fc36c1d",
   "metadata": {},
   "outputs": [],
   "source": [
    "# X = vectorizer.fit_transform(text_data)"
   ]
  },
  {
   "cell_type": "code",
   "execution_count": 6,
   "id": "b75388b3",
   "metadata": {},
   "outputs": [],
   "source": [
    "# print(vectorizer.polarity())"
   ]
  },
  {
   "cell_type": "code",
   "execution_count": 7,
   "id": "cdf2dacf",
   "metadata": {},
   "outputs": [],
   "source": [
    "# print(X.toarray())"
   ]
  },
  {
   "cell_type": "code",
   "execution_count": 8,
   "id": "4e72be47",
   "metadata": {},
   "outputs": [],
   "source": [
    "feature_1 = df[\"Subjectivity\"]\n",
    "feature_2 = df[\"Polarity\"]\n",
    "feature_3 = df[\"score\"]"
   ]
  },
  {
   "cell_type": "code",
   "execution_count": 9,
   "id": "769494c0",
   "metadata": {},
   "outputs": [],
   "source": [
    "# new_df = pd.concat([feature_1, feature_2, feature_3], axis=1)"
   ]
  },
  {
   "cell_type": "code",
   "execution_count": 10,
   "id": "be3660b4",
   "metadata": {},
   "outputs": [],
   "source": [
    "df.to_csv(\"C:\\\\Users\\\\Shubham\\\\Desktop\\\\new.csv\")"
   ]
  }
 ],
 "metadata": {
  "kernelspec": {
   "display_name": "Python 3 (ipykernel)",
   "language": "python",
   "name": "python3"
  },
  "language_info": {
   "codemirror_mode": {
    "name": "ipython",
    "version": 3
   },
   "file_extension": ".py",
   "mimetype": "text/x-python",
   "name": "python",
   "nbconvert_exporter": "python",
   "pygments_lexer": "ipython3",
   "version": "3.10.9"
  }
 },
 "nbformat": 4,
 "nbformat_minor": 5
}
