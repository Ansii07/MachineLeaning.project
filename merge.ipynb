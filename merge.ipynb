{
 "cells": [
  {
   "cell_type": "code",
   "execution_count": 1,
   "id": "4fcfbe50",
   "metadata": {},
   "outputs": [],
   "source": [
    "import pandas as pd"
   ]
  },
  {
   "cell_type": "code",
   "execution_count": 2,
   "id": "b6bbcf49",
   "metadata": {},
   "outputs": [],
   "source": [
    "df1=pd.read_csv(\"C:\\\\Users\\\\Shubham\\\\Desktop\\\\project\\\\clean project\\\\yogi clean\\\\yogi demonetization_clean.csv\")           "
   ]
  },
  {
   "cell_type": "code",
   "execution_count": 3,
   "id": "a891bb49",
   "metadata": {},
   "outputs": [],
   "source": [
    "df2=pd.read_csv(\"C:\\\\Users\\\\Shubham\\\\Desktop\\\\project\\\\clean project\\\\yogi clean\\\\yogi education_clean.csv\")"
   ]
  },
  {
   "cell_type": "code",
   "execution_count": 4,
   "id": "1a0ae105",
   "metadata": {},
   "outputs": [],
   "source": [
    "df3=pd.read_csv(\"C:\\\\Users\\\\Shubham\\\\Desktop\\\\project\\\\clean project\\\\yogi clean\\\\yogi farmer_clean.csv\")"
   ]
  },
  {
   "cell_type": "code",
   "execution_count": 5,
   "id": "c20b2865",
   "metadata": {},
   "outputs": [],
   "source": [
    "df4=pd.read_csv(\"C:\\\\Users\\\\Shubham\\\\Desktop\\\\project\\\\clean project\\\\yogi clean\\\\yogi finance_clean.csv\")"
   ]
  },
  {
   "cell_type": "code",
   "execution_count": 6,
   "id": "b85987c1",
   "metadata": {},
   "outputs": [],
   "source": [
    "df5=pd.read_csv(\"C:\\\\Users\\\\Shubham\\\\Desktop\\\\project\\\\clean project\\\\yogi clean\\\\yogi Gujarat_clean.csv\")"
   ]
  },
  {
   "cell_type": "code",
   "execution_count": 7,
   "id": "44bec75a",
   "metadata": {},
   "outputs": [],
   "source": [
    "df6=pd.read_csv(\"C:\\\\Users\\\\Shubham\\\\Desktop\\\\project\\\\clean project\\\\yogi clean\\\\yogi Russia ukraine_clean.csv\")"
   ]
  },
  {
   "cell_type": "code",
   "execution_count": 8,
   "id": "222a995d",
   "metadata": {},
   "outputs": [],
   "source": [
    "df7=pd.read_csv(\"C:\\\\Users\\\\Shubham\\\\Desktop\\\\project\\\\clean project\\\\yogi clean\\\\yogi terrorism_clean.csv\")"
   ]
  },
  {
   "cell_type": "code",
   "execution_count": 9,
   "id": "2d09a9d1",
   "metadata": {},
   "outputs": [],
   "source": [
    "df8=pd.read_csv(\"C:\\\\Users\\\\Shubham\\\\Desktop\\\\project\\\\clean project\\\\yogi clean\\\\yogiArticle_clean.csv\")"
   ]
  },
  {
   "cell_type": "code",
   "execution_count": 10,
   "id": "7015f534",
   "metadata": {},
   "outputs": [],
   "source": [
    "df=pd.concat([df1, df2, df3, df4, df5, df6, df7, df8], ignore_index=True)"
   ]
  },
  {
   "cell_type": "code",
   "execution_count": 11,
   "id": "69254ee2",
   "metadata": {},
   "outputs": [
    {
     "name": "stdout",
     "output_type": "stream",
     "text": [
      "       Unnamed: 0      Tweet Id  \\\n",
      "0             0.0  1.600530e+18   \n",
      "1             1.0  1.596120e+18   \n",
      "2             2.0  1.596100e+18   \n",
      "3             3.0  1.596020e+18   \n",
      "4             4.0  1.592120e+18   \n",
      "...           ...           ...   \n",
      "18330      1888.0  8.549160e+17   \n",
      "18331      1889.0  8.546560e+17   \n",
      "18332      1890.0  8.462870e+17   \n",
      "18333      1891.0  8.455040e+17   \n",
      "18334         NaN           NaN   \n",
      "\n",
      "                                                    Text  Subjectivity  \\\n",
      "0      Demonetization was a step towards Nation Build...      0.362500   \n",
      "1            Hahha,I should be the one laughing. Real...      0.372727   \n",
      "2            Hahahahah demonetization had many positi...      0.278030   \n",
      "3            in vinaskario se Mukti. Don't you rememb...      0.000000   \n",
      "4       Akela  kitna karega. Don’t think even GJ has ...      0.341667   \n",
      "...                                                  ...           ...   \n",
      "18330     \\nIn my view the only solution to kashmir i...      1.000000   \n",
      "18331                                        Article 370      0.000000   \n",
      "18332                  article 370 and 35A also suggest.      0.000000   \n",
      "18333  Reply to    like Article 370  not passed, law ...      0.100000   \n",
      "18334                                                NaN           NaN   \n",
      "\n",
      "       Polarity     score leader  \n",
      "0      0.250000  Positive   yogi  \n",
      "1      0.213636  Positive   yogi  \n",
      "2      0.181818  Positive   yogi  \n",
      "3      0.000000   Neutral   yogi  \n",
      "4      0.166667  Positive   yogi  \n",
      "...         ...       ...    ...  \n",
      "18330  0.000000   Neutral   yogi  \n",
      "18331  0.000000   Neutral   yogi  \n",
      "18332  0.000000   Neutral   yogi  \n",
      "18333  0.000000   Neutral   yogi  \n",
      "18334       NaN       NaN   yogi  \n",
      "\n",
      "[18335 rows x 7 columns]\n"
     ]
    }
   ],
   "source": [
    "print(df)"
   ]
  },
  {
   "cell_type": "code",
   "execution_count": 12,
   "id": "1ff65485",
   "metadata": {},
   "outputs": [],
   "source": [
    "df.to_csv(\"C:\\\\Users\\\\Shubham\\\\Desktop\\\\Yogi merge.csv\")"
   ]
  },
  {
   "cell_type": "code",
   "execution_count": null,
   "id": "9c8ba3c6",
   "metadata": {},
   "outputs": [],
   "source": []
  }
 ],
 "metadata": {
  "kernelspec": {
   "display_name": "Python 3 (ipykernel)",
   "language": "python",
   "name": "python3"
  },
  "language_info": {
   "codemirror_mode": {
    "name": "ipython",
    "version": 3
   },
   "file_extension": ".py",
   "mimetype": "text/x-python",
   "name": "python",
   "nbconvert_exporter": "python",
   "pygments_lexer": "ipython3",
   "version": "3.10.9"
  }
 },
 "nbformat": 4,
 "nbformat_minor": 5
}
