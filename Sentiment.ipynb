{
 "cells": [
  {
   "cell_type": "code",
   "execution_count": 1,
   "metadata": {},
   "outputs": [
    {
     "name": "stderr",
     "output_type": "stream",
     "text": [
      "C:\\Users\\Shubham\\AppData\\Local\\Temp\\ipykernel_20452\\4076796131.py:13: DeprecatedFeatureWarning: content is deprecated, use rawContent instead\n",
      "  tweets_list2.append([tweet.date, tweet.id, tweet.content, tweet.user.username])\n"
     ]
    }
   ],
   "source": [
    "import snscrape.modules.twitter as sntwitter\n",
    "\n",
    "import pandas as pd\n",
    "import numpy as np\n",
    "tweets_list2 = []\n",
    "\n",
    "\n",
    "for i, tweet in enumerate(\n",
    "        sntwitter.TwitterSearchScraper('@rajnathsingh: terrorism since:2006-10-01 until:2022-12-15').get_items()):\n",
    "\n",
    "    if i > 5000:\n",
    "        break\n",
    "    tweets_list2.append([tweet.date, tweet.id, tweet.content, tweet.user.username])\n",
    "\n",
    "tweets_df2 = pd.DataFrame(tweets_list2, columns=['Datetime', 'Tweet Id', 'Text', 'Username'])"
   ]
  },
  {
   "cell_type": "code",
   "execution_count": 2,
   "metadata": {},
   "outputs": [],
   "source": [
    "tweets_df2.to_csv(\"C:\\\\Users\\\\Shubham\\\\Desktop\\\\rajnath singh terrorism.csv\")"
   ]
  },
  {
   "cell_type": "code",
   "execution_count": 3,
   "metadata": {},
   "outputs": [],
   "source": [
    "df = pd.read_csv(\"C:\\\\Users\\\\Shubham\\\\Desktop\\\\rajnath singh terrorism.csv\")"
   ]
  },
  {
   "cell_type": "code",
   "execution_count": 4,
   "metadata": {},
   "outputs": [
    {
     "name": "stdout",
     "output_type": "stream",
     "text": [
      "      Unnamed: 0                   Datetime             Tweet Id  \\\n",
      "0              0  2022-12-14 15:59:40+00:00  1603057140197130241   \n",
      "1              1  2022-12-13 16:27:39+00:00  1602701795217678336   \n",
      "2              2  2022-12-13 16:23:38+00:00  1602700785846226944   \n",
      "3              3  2022-12-13 16:21:07+00:00  1602700152841867264   \n",
      "4              4  2022-12-13 16:17:02+00:00  1602699123219914753   \n",
      "...          ...                        ...                  ...   \n",
      "4996        4996  2019-02-17 17:43:52+00:00  1097189904520486913   \n",
      "4997        4997  2019-02-17 17:43:51+00:00  1097189900065992704   \n",
      "4998        4998  2019-02-17 17:20:34+00:00  1097184041957236736   \n",
      "4999        4999  2019-02-17 16:46:52+00:00  1097175558461353985   \n",
      "5000        5000  2019-02-17 16:33:33+00:00  1097172208349110273   \n",
      "\n",
      "                                                   Text        Username  \n",
      "0     Indian Army and J&amp;K Police today averted a...       ramneekjk  \n",
      "1     @PMOIndia @pushkardhami @narendramodi Jai hind...  SERVETHENATIOW  \n",
      "2     @PemaKhanduBJP @BJP4India @sambitswaraj Jai hi...  SERVETHENATIOW  \n",
      "3     @AmitShah Jai hind jai bharat maa I'm from Jam...  SERVETHENATIOW  \n",
      "4     @rajnathsingh Jai hind jai bharat maa I'm from...  SERVETHENATIOW  \n",
      "...                                                 ...             ...  \n",
      "4996  Not every Kashmiri is a terrorist or terrorist...     Mukeshjammu  \n",
      "4997  We are on the verge of war with Pak, before do...       soumya_sj  \n",
      "4998  @narendramodi @rajnathsingh \\n@nsitharaman\\nRe...       pra5hant1  \n",
      "4999  @NilimDutta @LW3210 @HMOIndia @NIA_India @rajn...   Samiproximity  \n",
      "5000  @avaishu69's account is temporarily unavailabl...       avaishu69  \n",
      "\n",
      "[5001 rows x 5 columns]\n"
     ]
    }
   ],
   "source": [
    "print(df)"
   ]
  },
  {
   "cell_type": "code",
   "execution_count": null,
   "metadata": {},
   "outputs": [],
   "source": []
  }
 ],
 "metadata": {
  "kernelspec": {
   "display_name": "Python 3 (ipykernel)",
   "language": "python",
   "name": "python3"
  },
  "language_info": {
   "codemirror_mode": {
    "name": "ipython",
    "version": 3
   },
   "file_extension": ".py",
   "mimetype": "text/x-python",
   "name": "python",
   "nbconvert_exporter": "python",
   "pygments_lexer": "ipython3",
   "version": "3.10.9"
  }
 },
 "nbformat": 4,
 "nbformat_minor": 1
}
