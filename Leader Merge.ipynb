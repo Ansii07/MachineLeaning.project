{
 "cells": [
  {
   "cell_type": "code",
   "execution_count": 2,
   "id": "a2780ab8",
   "metadata": {},
   "outputs": [],
   "source": [
    "import pandas as pd"
   ]
  },
  {
   "cell_type": "code",
   "execution_count": 2,
   "id": "3ae53e15",
   "metadata": {},
   "outputs": [],
   "source": [
    "df1=pd.read_csv(\"C:\\\\Users\\\\Shubham\\\\Desktop\\\\New Merge leader\\\\Amit Shah merge.csv\")           "
   ]
  },
  {
   "cell_type": "code",
   "execution_count": 3,
   "id": "f7dc0aa2",
   "metadata": {},
   "outputs": [],
   "source": [
    "df2=pd.read_csv(\"C:\\\\Users\\\\Shubham\\\\Desktop\\\\New Merge leader\\\\Arvind Kejriwal merge.csv\")"
   ]
  },
  {
   "cell_type": "code",
   "execution_count": 4,
   "id": "213f1228",
   "metadata": {},
   "outputs": [],
   "source": [
    "df3=pd.read_csv(\"C:\\\\Users\\\\Shubham\\\\Desktop\\\\New Merge leader\\\\Mamta Banerjee merge.csv\")"
   ]
  },
  {
   "cell_type": "code",
   "execution_count": 5,
   "id": "bf41a914",
   "metadata": {},
   "outputs": [],
   "source": [
    "df4=pd.read_csv(\"C:\\\\Users\\\\Shubham\\\\Desktop\\\\New Merge leader\\\\Narendra Modi merge.csv\")"
   ]
  },
  {
   "cell_type": "code",
   "execution_count": 6,
   "id": "bc55c8d0",
   "metadata": {},
   "outputs": [],
   "source": [
    "df5=pd.read_csv(\"C:\\\\Users\\\\Shubham\\\\Desktop\\\\New Merge leader\\\\Rahul Gandhi merge.csv\")"
   ]
  },
  {
   "cell_type": "code",
   "execution_count": 7,
   "id": "0a9b5e9c",
   "metadata": {},
   "outputs": [],
   "source": [
    "df6=pd.read_csv(\"C:\\\\Users\\\\Shubham\\\\Desktop\\\\New Merge leader\\\\Rajnath Singh merge.csv\")"
   ]
  },
  {
   "cell_type": "code",
   "execution_count": 8,
   "id": "90c1a7d0",
   "metadata": {},
   "outputs": [],
   "source": [
    "df7=pd.read_csv(\"C:\\\\Users\\\\Shubham\\\\Desktop\\\\New Merge leader\\\\Yogi merge.csv\")"
   ]
  },
  {
   "cell_type": "code",
   "execution_count": 9,
   "id": "18a70a41",
   "metadata": {},
   "outputs": [],
   "source": [
    "df=pd.concat([df1, df2, df3, df4, df5, df6, df7], ignore_index=True)"
   ]
  },
  {
   "cell_type": "code",
   "execution_count": 10,
   "id": "650c4884",
   "metadata": {},
   "outputs": [
    {
     "name": "stdout",
     "output_type": "stream",
     "text": [
      "        Unnamed: 0.1  Unnamed: 0      Tweet Id  \\\n",
      "0                  0         0.0  1.603070e+18   \n",
      "1                  1         1.0  1.603050e+18   \n",
      "2                  2         2.0  1.603020e+18   \n",
      "3                  3         3.0  1.603010e+18   \n",
      "4                  4         4.0  1.602900e+18   \n",
      "...              ...         ...           ...   \n",
      "136082         18330      1888.0  8.549160e+17   \n",
      "136083         18331      1889.0  8.546560e+17   \n",
      "136084         18332      1890.0  8.462870e+17   \n",
      "136085         18333      1891.0  8.455040e+17   \n",
      "136086         18334         NaN           NaN   \n",
      "\n",
      "                                                     Text  Subjectivity  \\\n",
      "0             Removal of Article 370 ended corruption ...      0.000000   \n",
      "1                Invasion can be quite mischievous. Do...      0.700000   \n",
      "2       Supreme Court is going to start hearing on Art...      0.000000   \n",
      "3       Article 370 was Abrogated and many  Progressiv...      0.375000   \n",
      "4          POK liya bjp ne ?\\nAksai chin liya?\\nBhai C...      0.542424   \n",
      "...                                                   ...           ...   \n",
      "136082     \\nIn my view the only solution to kashmir i...      1.000000   \n",
      "136083                                        Article 370      0.000000   \n",
      "136084                  article 370 and 35A also suggest.      0.000000   \n",
      "136085  Reply to    like Article 370  not passed, law ...      0.100000   \n",
      "136086                                                NaN           NaN   \n",
      "\n",
      "        Polarity     score leader  \n",
      "0       0.000000   Neutral   amit  \n",
      "1       0.060000  Positive   amit  \n",
      "2       0.000000   Neutral   amit  \n",
      "3       0.250000  Positive   amit  \n",
      "4      -0.034545  Negative   amit  \n",
      "...          ...       ...    ...  \n",
      "136082  0.000000   Neutral   yogi  \n",
      "136083  0.000000   Neutral   yogi  \n",
      "136084  0.000000   Neutral   yogi  \n",
      "136085  0.000000   Neutral   yogi  \n",
      "136086       NaN       NaN   yogi  \n",
      "\n",
      "[136087 rows x 8 columns]\n"
     ]
    }
   ],
   "source": [
    "print(df)"
   ]
  },
  {
   "cell_type": "code",
   "execution_count": 2,
   "id": "61516177",
   "metadata": {},
   "outputs": [
    {
     "name": "stdout",
     "output_type": "stream",
     "text": [
      "       Unnamed: 0                   Datetime      Tweet Id  \\\n",
      "0               0  2022-12-14 16:55:06+00:00  1.603070e+18   \n",
      "1               1  2022-12-14 15:12:08+00:00  1.603050e+18   \n",
      "2               2  2022-12-14 13:28:45+00:00  1.603020e+18   \n",
      "3               3  2022-12-14 12:58:20+00:00  1.603010e+18   \n",
      "4               4  2022-12-14 05:48:56+00:00  1.602900e+18   \n",
      "...           ...                        ...           ...   \n",
      "25358        4996  2021-09-23 02:39:53+00:00  1.440868e+18   \n",
      "25359        4997  2021-09-23 02:09:52+00:00  1.440861e+18   \n",
      "25360        4998  2021-09-22 17:37:27+00:00  1.440732e+18   \n",
      "25361        4999  2021-09-22 14:19:20+00:00  1.440682e+18   \n",
      "25362        5000  2021-09-22 12:12:27+00:00  1.440650e+18   \n",
      "\n",
      "                                                    Text        Username  \n",
      "0      @PMOIndia @narendramodi @AmitShah @rajnathsing...  AshikHussainJK  \n",
      "1      @kuraikudam @AmitShah @BJP4India @RSSorg @frie...         Har1AUM  \n",
      "2      Supreme Court is going to start hearing on Art...       ajaz_awan  \n",
      "3      Article 370 was Abrogated and many  Progressiv...     rtimuzaffar  \n",
      "4      @thakkar_sameet @narendramodi @AmitShah POK li...       Aryan3711  \n",
      "...                                                  ...             ...  \n",
      "25358  @AamAadmiParty @raghav_chadha As usual languag...      vkbvkb1689  \n",
      "25359  @PMOIndia @narendramodi\\n @AmitShah @smritiira...      leaopt_rnp  \n",
      "25360  As I tweeted 18/9 , Rs 20,000 Cr drugs is seiz...  Bhaavinpurohit  \n",
      "25361  @one_who_was_not @anitachoudhary @AmitShah @Ha...       ManoharVM  \n",
      "25362  @AmitShah @PMOIndia @HMOIndia Talk &amp; terro...         bhatb55  \n",
      "\n",
      "[25363 rows x 5 columns]\n"
     ]
    }
   ],
   "source": [
    "df1=pd.read_csv(\"C:\\\\Users\\\\Shubham\\\\Desktop\\\\project\\\\Leaders\\\\Amit Shah\\\\amit Article 370.csv\")\n",
    "df2=pd.read_csv(\"C:\\\\Users\\\\Shubham\\\\Desktop\\\\project\\\\Leaders\\\\Amit Shah\\\\amit education.csv\")\n",
    "df3=pd.read_csv(\"C:\\\\Users\\\\Shubham\\\\Desktop\\\\project\\\\Leaders\\\\Amit Shah\\\\amit finance and economical.csv\")\n",
    "df4=pd.read_csv(\"C:\\\\Users\\\\Shubham\\\\Desktop\\\\project\\\\Leaders\\\\Amit Shah\\\\amit shah Demonetisation.csv\")\n",
    "df5=pd.read_csv(\"C:\\\\Users\\\\Shubham\\\\Desktop\\\\project\\\\Leaders\\\\Amit Shah\\\\amit shah farmer protest.csv\")\n",
    "df6=pd.read_csv(\"C:\\\\Users\\\\Shubham\\\\Desktop\\\\project\\\\Leaders\\\\Amit Shah\\\\amit shah Gujarat assembly.csv\")\n",
    "df7=pd.read_csv(\"C:\\\\Users\\\\Shubham\\\\Desktop\\\\project\\\\Leaders\\\\Amit Shah\\\\amit shah Russia Ukraine.csv\")\n",
    "df8=pd.read_csv(\"C:\\\\Users\\\\Shubham\\\\Desktop\\\\project\\\\Leaders\\\\Amit Shah\\\\amit terrorism.csv\")   \n",
    "df=pd.concat([df1, df2, df3, df4, df5, df6, df7, df8], ignore_index=True)\n",
    "print(df)"
   ]
  },
  {
   "cell_type": "code",
   "execution_count": 3,
   "id": "db4f6f9a",
   "metadata": {},
   "outputs": [],
   "source": [
    "df.to_csv(\"C:\\\\Users\\\\Shubham\\\\Desktop\\\\Amit1.csv\")"
   ]
  },
  {
   "cell_type": "code",
   "execution_count": 4,
   "id": "cc55e5a7",
   "metadata": {},
   "outputs": [
    {
     "name": "stdout",
     "output_type": "stream",
     "text": [
      "       Unnamed: 0                   Datetime             Tweet Id  \\\n",
      "0               0  2022-12-01 07:50:55+00:00  1598223102110240768   \n",
      "1               1  2022-11-30 07:46:07+00:00  1597859505848848386   \n",
      "2               2  2022-11-30 07:03:15+00:00  1597848716945534976   \n",
      "3               3  2022-11-30 06:51:43+00:00  1597845814902411264   \n",
      "4               4  2022-11-30 05:20:15+00:00  1597822796654346240   \n",
      "...           ...                        ...                  ...   \n",
      "23271         235  2019-01-16 15:35:02+00:00  1085561069563772928   \n",
      "23272         236  2019-01-16 15:00:01+00:00  1085552256282443778   \n",
      "23273         237  2018-12-02 00:17:36+00:00  1069022738206076928   \n",
      "23274         238  2018-06-02 19:09:47+00:00  1002990680333942784   \n",
      "23275         239  2016-10-04 02:56:15+00:00   783138634534912001   \n",
      "\n",
      "                                                    Text         Username  \n",
      "0      @AamAadmiParty @ArvindKejriwal Karke dikhayeng...  Manu_HiraBallbh  \n",
      "1            @ArvindKejriwal Did you oppose article 370?    AgarwalCharat  \n",
      "2      @news24tvchannel @AmitShah See what @ArvindKej...         LamdaSky  \n",
      "3      @AamAadmiParty @ArvindKejriwal haan Northeast ...  Manu_HiraBallbh  \n",
      "4      @nandtara @ArvindKejriwal @bainjal @ArvindKejr...        viky4chat  \n",
      "...                                                  ...              ...  \n",
      "23271  @Praecursator007 @Ranjan96125006 @SushmaSwaraj...      emir_starkk  \n",
      "23272  Yes he is the terrorist \\nHe destroyed carrier...      emir_starkk  \n",
      "23273  @VickyKedia @ArvindKejriwal @msisodia But ther...      SaralTrader  \n",
      "23274  @ashu_shivay @ArvindKejriwal Aisa hota toh Nep...      inderlohia1  \n",
      "23275  @ArvindC72226902 Have Russia ever released a p...     tewari_anmol  \n",
      "\n",
      "[23276 rows x 5 columns]\n"
     ]
    }
   ],
   "source": [
    "df1=pd.read_csv(\"C:\\\\Users\\\\Shubham\\\\Desktop\\\\project\\\\Leaders\\\\Arvind Kejriwal\\\\arvind Article 370.csv\")\n",
    "df2=pd.read_csv(\"C:\\\\Users\\\\Shubham\\\\Desktop\\\\project\\\\Leaders\\\\Arvind Kejriwal\\\\arvind demonetization.csv\")\n",
    "df3=pd.read_csv(\"C:\\\\Users\\\\Shubham\\\\Desktop\\\\project\\\\Leaders\\\\Arvind Kejriwal\\\\arvind farmer protest.csv\")\n",
    "df4=pd.read_csv(\"C:\\\\Users\\\\Shubham\\\\Desktop\\\\project\\\\Leaders\\\\Arvind Kejriwal\\\\arvind finance.csv\")\n",
    "df5=pd.read_csv(\"C:\\\\Users\\\\Shubham\\\\Desktop\\\\project\\\\Leaders\\\\Arvind Kejriwal\\\\arvind Gujarat Assembly.csv\")\n",
    "df6=pd.read_csv(\"C:\\\\Users\\\\Shubham\\\\Desktop\\\\project\\\\Leaders\\\\Arvind Kejriwal\\\\arvind k education.csv\")\n",
    "df7=pd.read_csv(\"C:\\\\Users\\\\Shubham\\\\Desktop\\\\project\\\\Leaders\\\\Arvind Kejriwal\\\\arvind k terrorism.csv\")\n",
    "df8=pd.read_csv(\"C:\\\\Users\\\\Shubham\\\\Desktop\\\\project\\\\Leaders\\\\Arvind Kejriwal\\\\arvind Russia ukraine.csv\")   \n",
    "df=pd.concat([df1, df2, df3, df4, df5, df6, df7, df8], ignore_index=True)\n",
    "print(df)"
   ]
  },
  {
   "cell_type": "code",
   "execution_count": 5,
   "id": "ffd96464",
   "metadata": {},
   "outputs": [],
   "source": [
    "df.to_csv(\"C:\\\\Users\\\\Shubham\\\\Desktop\\\\Arvind1.csv\")"
   ]
  },
  {
   "cell_type": "code",
   "execution_count": 6,
   "id": "6c624017",
   "metadata": {},
   "outputs": [
    {
     "name": "stdout",
     "output_type": "stream",
     "text": [
      "       Unnamed: 0                   Datetime             Tweet Id  \\\n",
      "0               0  2022-11-19 02:54:23+00:00  1593799820023861248   \n",
      "1               1  2022-11-18 11:43:46+00:00  1593570655777087488   \n",
      "2               2  2022-11-17 13:46:26+00:00  1593239139041697792   \n",
      "3               3  2022-11-10 02:29:35+00:00  1590532090667634694   \n",
      "4               4  2022-11-09 10:00:02+00:00  1590283059936792576   \n",
      "...           ...                        ...                  ...   \n",
      "11978         746  2017-09-16 05:17:14+00:00   908922703842762752   \n",
      "11979         747  2017-05-12 17:52:24+00:00   863089488490377221   \n",
      "11980         748  2017-05-12 17:47:43+00:00   863088310037753856   \n",
      "11981         749  2017-04-15 15:27:47+00:00   853268622986358785   \n",
      "11982         750  2017-01-12 13:26:19+00:00   819535983741988864   \n",
      "\n",
      "                                                    Text         Username  \n",
      "0      Why does one involve self in #FakeNews peddlin...   cchandramouli1  \n",
      "1      @Trendsetting123 @kukk44 @sunilddesai @VijaysM...      BK70returnz  \n",
      "2      @AITCSanghamitra @SuvenduWB @dir_ed @MamataOff...        skp__2016  \n",
      "3      @SunilKu92687431 @RahulGandhi @AamAadmiParty @...   sunil251958133  \n",
      "4      @MamataOfficial The real truth is that India's...  Debasis49690382  \n",
      "...                                                  ...              ...  \n",
      "11978  @abuasimazmi @IndiaToday BULLET TRAIN is just ...      AapKaKalyan  \n",
      "11979  @rahuldabadboy @anti_conversion @utpalghosh30 ...  NeerajC04599498  \n",
      "11980  @NeerajC04599498 @anti_conversion @utpalghosh3...          Radjock  \n",
      "11981  @MamataOfficial @quizderek @abdullah_omar Seni...   CharlieOscar07  \n",
      "11982  @sush091979 @mamataofficial Nobody can prevent...      PremjoyBabu  \n",
      "\n",
      "[11983 rows x 5 columns]\n"
     ]
    }
   ],
   "source": [
    "df1=pd.read_csv(\"C:\\\\Users\\\\Shubham\\\\Desktop\\\\project\\\\Leaders\\\\Mamata Banerjee\\\\mamata demonetisation.csv\")\n",
    "df2=pd.read_csv(\"C:\\\\Users\\\\Shubham\\\\Desktop\\\\project\\\\Leaders\\\\Mamata Banerjee\\\\mamata education.csv\")\n",
    "df3=pd.read_csv(\"C:\\\\Users\\\\Shubham\\\\Desktop\\\\project\\\\Leaders\\\\Mamata Banerjee\\\\mamata farmer.csv\")\n",
    "df4=pd.read_csv(\"C:\\\\Users\\\\Shubham\\\\Desktop\\\\project\\\\Leaders\\\\Mamata Banerjee\\\\mamata gujarat.csv\")\n",
    "df5=pd.read_csv(\"C:\\\\Users\\\\Shubham\\\\Desktop\\\\project\\\\Leaders\\\\Mamata Banerjee\\\\mamata russia.csv\")\n",
    "df6=pd.read_csv(\"C:\\\\Users\\\\Shubham\\\\Desktop\\\\project\\\\Leaders\\\\Mamata Banerjee\\\\mamata terrorism.csv\")\n",
    "df7=pd.read_csv(\"C:\\\\Users\\\\Shubham\\\\Desktop\\\\project\\\\Leaders\\\\Mamata Banerjee\\\\mamta article 370.csv\")\n",
    "# df8=pd.read_csv(\"C:\\\\Users\\\\Shubham\\\\Desktop\\\\project\\\\Leaders\\\\Mamata Banerjee\\\\arvind Russia ukraine.csv\")   \n",
    "df=pd.concat([df1, df2, df3, df4, df5, df6, df7], ignore_index=True)\n",
    "print(df)"
   ]
  },
  {
   "cell_type": "code",
   "execution_count": 7,
   "id": "4f3b977d",
   "metadata": {},
   "outputs": [],
   "source": [
    "df.to_csv(\"C:\\\\Users\\\\Shubham\\\\Desktop\\\\Mamata1.csv\")"
   ]
  },
  {
   "cell_type": "code",
   "execution_count": 8,
   "id": "ddc0b80a",
   "metadata": {},
   "outputs": [
    {
     "name": "stdout",
     "output_type": "stream",
     "text": [
      "       Unnamed: 0                   Datetime             Tweet Id  \\\n",
      "0               0  2022-12-14 19:40:57+00:00  1603112830923857925   \n",
      "1               1  2022-12-14 16:55:06+00:00  1603071089915367424   \n",
      "2               2  2022-12-14 13:28:45+00:00  1603019162477289476   \n",
      "3               3  2022-12-14 09:54:15+00:00  1602965182644621312   \n",
      "4               4  2022-12-14 09:31:21+00:00  1602959419704479751   \n",
      "...           ...                        ...                  ...   \n",
      "21424        4996  2022-06-03 13:39:35+00:00  1532718641204035585   \n",
      "21425        4997  2022-06-03 13:34:50+00:00  1532717448767582208   \n",
      "21426        4998  2022-06-03 13:29:25+00:00  1532716082343006208   \n",
      "21427        4999  2022-06-03 13:25:29+00:00  1532715092671746049   \n",
      "21428        5000  2022-06-03 12:59:27+00:00  1532708543714844672   \n",
      "\n",
      "                                                    Text         Username  \n",
      "0      @bjp4kovai @narendramodi @annamalai_k @BJP4Tam...       Mano_swamy  \n",
      "1      @PMOIndia @narendramodi @AmitShah @rajnathsing...   AshikHussainJK  \n",
      "2      Supreme Court is going to start hearing on Art...        ajaz_awan  \n",
      "3      Amazingly, everything seems to be matching up ...    sanjaytirdiya  \n",
      "4      आर्टिकल 370 को हटाए जाने के खिलाफ दायर याचिकाओ...      AmritVichar  \n",
      "...                                                  ...              ...  \n",
      "21424  @theskindoctor13 @AskAnshul @narendramodi @PMO...      ssundram151  \n",
      "21425  @BattaKashmiri \"We will make no distinction be...   thecenturion13  \n",
      "21426  @KirenRijiju \\n@AmitShahOffice \\n@PMOIndia \\n@...        aksinhaak  \n",
      "21427  @ANI Hope things will change in the valley for...      Dpkvigyapan  \n",
      "21428  @vinodkapri @narendramodi क्योंकि मोदी redical...  Pawankumar21105  \n",
      "\n",
      "[21429 rows x 5 columns]\n"
     ]
    }
   ],
   "source": [
    "df1=pd.read_csv(\"C:\\\\Users\\\\Shubham\\\\Desktop\\\\project\\\\Leaders\\\\Modi\\\\modi Article 370.csv\")\n",
    "df2=pd.read_csv(\"C:\\\\Users\\\\Shubham\\\\Desktop\\\\project\\\\Leaders\\\\Modi\\\\modi Demonetization.csv\")\n",
    "df3=pd.read_csv(\"C:\\\\Users\\\\Shubham\\\\Desktop\\\\project\\\\Leaders\\\\Modi\\\\modi education.csv\")\n",
    "df4=pd.read_csv(\"C:\\\\Users\\\\Shubham\\\\Desktop\\\\project\\\\Leaders\\\\Modi\\\\modi farmer protest.csv\")\n",
    "df5=pd.read_csv(\"C:\\\\Users\\\\Shubham\\\\Desktop\\\\project\\\\Leaders\\\\Modi\\\\modi finance.csv\")\n",
    "df6=pd.read_csv(\"C:\\\\Users\\\\Shubham\\\\Desktop\\\\project\\\\Leaders\\\\Modi\\\\modi Gujarat assembly.csv\")\n",
    "df7=pd.read_csv(\"C:\\\\Users\\\\Shubham\\\\Desktop\\\\project\\\\Leaders\\\\Modi\\\\modi russia ukraine.csv\")\n",
    "df8=pd.read_csv(\"C:\\\\Users\\\\Shubham\\\\Desktop\\\\project\\\\Leaders\\\\Modi\\\\modi terrorism.csv\")   \n",
    "df=pd.concat([df1, df2, df3, df4, df5, df6, df7, df8], ignore_index=True)\n",
    "print(df)"
   ]
  },
  {
   "cell_type": "code",
   "execution_count": 9,
   "id": "2bc1ad66",
   "metadata": {},
   "outputs": [],
   "source": [
    "df.to_csv(\"C:\\\\Users\\\\Shubham\\\\Desktop\\\\Narendra1.csv\")"
   ]
  },
  {
   "cell_type": "code",
   "execution_count": 10,
   "id": "8fc644c2",
   "metadata": {},
   "outputs": [
    {
     "name": "stdout",
     "output_type": "stream",
     "text": [
      "       Unnamed: 0                   Datetime             Tweet Id  \\\n",
      "0               0  2022-12-14 11:43:16+00:00  1602992618065264641   \n",
      "1               1  2022-12-13 05:51:22+00:00  1602541671077617669   \n",
      "2               2  2022-12-12 13:16:35+00:00  1602291326372163585   \n",
      "3               3  2022-12-12 07:37:33+00:00  1602206002413449217   \n",
      "4               4  2022-12-12 02:28:51+00:00  1602128316453908481   \n",
      "...           ...                        ...                  ...   \n",
      "28030         202  2022-02-24 11:37:23+00:00  1496811492770942978   \n",
      "28031         203  2022-02-24 09:42:15+00:00  1496782518137196546   \n",
      "28032         204  2022-02-24 08:48:44+00:00  1496769049451130882   \n",
      "28033         205  2022-02-24 08:32:57+00:00  1496765076904177667   \n",
      "28034         206  2022-02-23 09:45:01+00:00  1496420826014531588   \n",
      "\n",
      "                                                    Text        Username  \n",
      "0      @INCIndia Govt Education system ki halat to sa...   rudrendra1113  \n",
      "1      @Naveen_ALLEN @RahulGandhi @bharatjodo Kota is...        singhakl  \n",
      "2      @RahulGandhi I think any professional course c...   kumarGa082211  \n",
      "3      @RahulGandhi @ashokgehlot51 Deep sea of Unempl...      real_dvyas  \n",
      "4      @RahulGandhi To problem the tumhare education ...     essarmax212  \n",
      "...                                                  ...             ...  \n",
      "28030  A1TV LIVE: UP Elections 2022 | Russia-Ukraine ...        A1TVNEWS  \n",
      "28031  Russia v/s Ukraine War\\nRussian going to attac...  ShaizyShehzaad  \n",
      "28032  @humanly_we @RahulGandhi MR PRESIDENT OF INDIA...    Dk93783723Dk  \n",
      "28033  @The_Brahmanda @RahulGandhi Pappu will cry and...   GiridharHindu  \n",
      "28034  @Magizh_ @nsitharaman @PChidambaram_IN @RahulG...        fly2aziz  \n",
      "\n",
      "[28035 rows x 5 columns]\n"
     ]
    }
   ],
   "source": [
    "df1=pd.read_csv(\"C:\\\\Users\\\\Shubham\\\\Desktop\\\\project\\\\Leaders\\\\rahul gandhi\\\\rahul education.csv\")\n",
    "df2=pd.read_csv(\"C:\\\\Users\\\\Shubham\\\\Desktop\\\\project\\\\Leaders\\\\rahul gandhi\\\\rahul terrorism.csv\")\n",
    "df3=pd.read_csv(\"C:\\\\Users\\\\Shubham\\\\Desktop\\\\project\\\\Leaders\\\\rahul gandhi\\\\Rahulgandhi Article.csv\")\n",
    "df4=pd.read_csv(\"C:\\\\Users\\\\Shubham\\\\Desktop\\\\project\\\\Leaders\\\\rahul gandhi\\\\Rahulgandhi demonetization.csv\")\n",
    "df5=pd.read_csv(\"C:\\\\Users\\\\Shubham\\\\Desktop\\\\project\\\\Leaders\\\\rahul gandhi\\\\Rahulgandhi farmer.csv\")\n",
    "df6=pd.read_csv(\"C:\\\\Users\\\\Shubham\\\\Desktop\\\\project\\\\Leaders\\\\rahul gandhi\\\\Rahulgandhi finance.csv\")\n",
    "df7=pd.read_csv(\"C:\\\\Users\\\\Shubham\\\\Desktop\\\\project\\\\Leaders\\\\rahul gandhi\\\\Rahulgandhi Gujarat.csv\")\n",
    "df8=pd.read_csv(\"C:\\\\Users\\\\Shubham\\\\Desktop\\\\project\\\\Leaders\\\\rahul gandhi\\\\Rahulgandhi russia.csv\")   \n",
    "df=pd.concat([df1, df2, df3, df4, df5, df6, df7, df8], ignore_index=True)\n",
    "print(df)"
   ]
  },
  {
   "cell_type": "code",
   "execution_count": 11,
   "id": "10cd7be3",
   "metadata": {},
   "outputs": [],
   "source": [
    "df.to_csv(\"C:\\\\Users\\\\Shubham\\\\Desktop\\\\Rahul1.csv\")"
   ]
  },
  {
   "cell_type": "code",
   "execution_count": 12,
   "id": "a05fafdc",
   "metadata": {},
   "outputs": [
    {
     "name": "stdout",
     "output_type": "stream",
     "text": [
      "       Unnamed: 0                   Datetime             Tweet Id  \\\n",
      "0               0  2022-12-09 18:14:05+00:00  1601279028463554560   \n",
      "1               1  2022-12-03 05:28:34+00:00  1598912053884092416   \n",
      "2               2  2022-11-13 07:55:10+00:00  1591701191117115400   \n",
      "3               3  2022-11-01 10:11:58+00:00  1587386960263655424   \n",
      "4               4  2022-10-17 13:00:45+00:00  1581993617320685569   \n",
      "...           ...                        ...                  ...   \n",
      "12662         512  2019-10-16 15:11:25+00:00  1184487014378303488   \n",
      "12663         513  2019-09-06 15:24:25+00:00  1169994772100145152   \n",
      "12664         514  2019-09-01 16:03:14+00:00  1168192602056773633   \n",
      "12665         515  2018-11-28 04:58:23+00:00  1067643844559278080   \n",
      "12666         516  2017-12-05 18:43:43+00:00   938116691753549824   \n",
      "\n",
      "                                                    Text         Username  \n",
      "0      @narendramodi @PMOIndia @rajnathsingh @AmitSha...        abhas1964  \n",
      "1      @rajnathsingh Mugal history पढ़ाने से बेहतर हो...  AdrashK70444841  \n",
      "2      @rajnathsingh It's time to get over this type ...     chourey_arun  \n",
      "3      @narendramodi\\n@rajnathsingh\\n@AmitShah\\n#To_d...        nirmal_dr  \n",
      "4      @Vineet316 @MirJunaidJKWP @DILIPtheCHERIAN @di...      sprashant_k  \n",
      "...                                                  ...              ...  \n",
      "12662  @Vicky48772678 @HALHQBLR @drajaykumar_ias @Def...   salamanderhash  \n",
      "12663  @rajnathsingh @DefExpoIndia India not yet succ...  ArvindS12550133  \n",
      "12664  @narendramodi @rajnathsingh dear sir  we have ...        kgvogue55  \n",
      "12665  I am studying in Ukraine where Martial law and...   PiyushMGomashe  \n",
      "12666  @yugpurushg @cgalgale @PiyushGoyal @rajnathsin...  Michaelprice888  \n",
      "\n",
      "[12667 rows x 5 columns]\n"
     ]
    }
   ],
   "source": [
    "df1=pd.read_csv(\"C:\\\\Users\\\\Shubham\\\\Desktop\\\\project\\\\Leaders\\\\rajnath singh\\\\rajnath singh education.csv\")\n",
    "df2=pd.read_csv(\"C:\\\\Users\\\\Shubham\\\\Desktop\\\\project\\\\Leaders\\\\rajnath singh\\\\rajnath singh finance.csv\")\n",
    "df3=pd.read_csv(\"C:\\\\Users\\\\Shubham\\\\Desktop\\\\project\\\\Leaders\\\\rajnath singh\\\\rajnath singh terrorism.csv\")\n",
    "df4=pd.read_csv(\"C:\\\\Users\\\\Shubham\\\\Desktop\\\\project\\\\Leaders\\\\rajnath singh\\\\rajnathsingh Article 370.csv\")\n",
    "df5=pd.read_csv(\"C:\\\\Users\\\\Shubham\\\\Desktop\\\\project\\\\Leaders\\\\rajnath singh\\\\rajnathsingh Demonetisation.csv\")\n",
    "df6=pd.read_csv(\"C:\\\\Users\\\\Shubham\\\\Desktop\\\\project\\\\Leaders\\\\rajnath singh\\\\rajnathsingh farmer.csv\")\n",
    "df7=pd.read_csv(\"C:\\\\Users\\\\Shubham\\\\Desktop\\\\project\\\\Leaders\\\\rajnath singh\\\\rajnathsingh Gujarat.csv\")\n",
    "df8=pd.read_csv(\"C:\\\\Users\\\\Shubham\\\\Desktop\\\\project\\\\Leaders\\\\rajnath singh\\\\rajnathsingh russia.csv\")   \n",
    "df=pd.concat([df1, df2, df3, df4, df5, df6, df7, df8], ignore_index=True)\n",
    "print(df)"
   ]
  },
  {
   "cell_type": "code",
   "execution_count": 13,
   "id": "837bca5b",
   "metadata": {},
   "outputs": [],
   "source": [
    "df.to_csv(\"C:\\\\Users\\\\Shubham\\\\Desktop\\\\Rajnath1.csv\")"
   ]
  },
  {
   "cell_type": "code",
   "execution_count": 14,
   "id": "fe068e5e",
   "metadata": {},
   "outputs": [
    {
     "name": "stdout",
     "output_type": "stream",
     "text": [
      "       Unnamed: 0                   Datetime             Tweet Id  \\\n",
      "0               0  2022-12-07 16:29:31+00:00  1600527939233206273   \n",
      "1               1  2022-11-25 12:16:54+00:00  1596115712611090433   \n",
      "2               2  2022-11-25 11:23:15+00:00  1596102207275163649   \n",
      "3               3  2022-11-25 05:46:12+00:00  1596017386905571329   \n",
      "4               4  2022-11-14 11:57:42+00:00  1592124613789896708   \n",
      "...           ...                        ...                  ...   \n",
      "18329        1887  2017-04-21 03:57:08+00:00   855269144572305409   \n",
      "18330        1888  2017-04-20 04:32:48+00:00   854915731405897728   \n",
      "18331        1889  2017-04-19 11:20:50+00:00   854656029098823684   \n",
      "18332        1890  2017-03-27 09:06:52+00:00   846287393766494208   \n",
      "18333        1891  2017-03-25 05:13:03+00:00   845503775251087360   \n",
      "\n",
      "                                                    Text         Username  \n",
      "0      #Demonetization was a step towards Nation Buil...     SinghKanwall  \n",
      "1      @shank009 @manusrbajpai @ShatruganSinha @Rahul...        mohniskha  \n",
      "2      @mohniskha @manusrbajpai @ShatruganSinha @Rahu...         shank009  \n",
      "3      @shank009 @manusrbajpai @ShatruganSinha @Rahul...        mohniskha  \n",
      "4      @JaipurDialogues Akela @myogiadityanath kitna ...       Nik_Debong  \n",
      "...                                                  ...              ...  \n",
      "18329  @narendramodi @HARDIKBHAVSAR10 Closure date of...  Narendra_nishad  \n",
      "18330  @PMOIndia @narendramodi @myogiadityanath \\nIn ...    anandtyagiddn  \n",
      "18331  @MeenuBetibjp1 @narendramodi @AmitShah @OmMath...    rahulraja6172  \n",
      "18332  @AJEquanimous @Swamy39 @myogiadityanath articl...   umer9103229075  \n",
      "18333  Reply to @timesofindia @myogiadityanath @TOILu...   arvind_guleria  \n",
      "\n",
      "[18334 rows x 5 columns]\n"
     ]
    }
   ],
   "source": [
    "df1=pd.read_csv(\"C:\\\\Users\\\\Shubham\\\\Desktop\\\\project\\\\Leaders\\\\yogi\\\\yogi demonetization.csv\")\n",
    "df2=pd.read_csv(\"C:\\\\Users\\\\Shubham\\\\Desktop\\\\project\\\\Leaders\\\\yogi\\\\yogi education.csv\")\n",
    "df3=pd.read_csv(\"C:\\\\Users\\\\Shubham\\\\Desktop\\\\project\\\\Leaders\\\\yogi\\\\yogi farmer.csv\")\n",
    "df4=pd.read_csv(\"C:\\\\Users\\\\Shubham\\\\Desktop\\\\project\\\\Leaders\\\\yogi\\\\yogi finance.csv\")\n",
    "df5=pd.read_csv(\"C:\\\\Users\\\\Shubham\\\\Desktop\\\\project\\\\Leaders\\\\yogi\\\\yogi Gujarat.csv\")\n",
    "df6=pd.read_csv(\"C:\\\\Users\\\\Shubham\\\\Desktop\\\\project\\\\Leaders\\\\yogi\\\\yogi Russia ukraine.csv\")\n",
    "df7=pd.read_csv(\"C:\\\\Users\\\\Shubham\\\\Desktop\\\\project\\\\Leaders\\\\yogi\\\\yogi terrorism.csv\")\n",
    "df8=pd.read_csv(\"C:\\\\Users\\\\Shubham\\\\Desktop\\\\project\\\\Leaders\\\\yogi\\\\yogiArticle.csv\")   \n",
    "df=pd.concat([df1, df2, df3, df4, df5, df6, df7, df8], ignore_index=True)\n",
    "print(df)"
   ]
  },
  {
   "cell_type": "code",
   "execution_count": 15,
   "id": "46b16afc",
   "metadata": {},
   "outputs": [],
   "source": [
    "df.to_csv(\"C:\\\\Users\\\\Shubham\\\\Desktop\\\\Yogi1.csv\")"
   ]
  },
  {
   "cell_type": "code",
   "execution_count": 29,
   "id": "7d75b492",
   "metadata": {},
   "outputs": [
    {
     "name": "stdout",
     "output_type": "stream",
     "text": [
      "        Unnamed: 0.1  Unnamed: 0                   Datetime  \\\n",
      "0                  0           0  2022-12-07 16:29:31+00:00   \n",
      "1                  1           1  2022-11-25 12:16:54+00:00   \n",
      "2                  2           2  2022-11-25 11:23:15+00:00   \n",
      "3                  3           3  2022-11-25 05:46:12+00:00   \n",
      "4                  4           4  2022-11-14 11:57:42+00:00   \n",
      "...              ...         ...                        ...   \n",
      "128333         18329        1887  2017-04-21 03:57:08+00:00   \n",
      "128334         18330        1888  2017-04-20 04:32:48+00:00   \n",
      "128335         18331        1889  2017-04-19 11:20:50+00:00   \n",
      "128336         18332        1890  2017-03-27 09:06:52+00:00   \n",
      "128337         18333        1891  2017-03-25 05:13:03+00:00   \n",
      "\n",
      "                   Tweet Id  \\\n",
      "0       1600527939233206273   \n",
      "1       1596115712611090433   \n",
      "2       1596102207275163649   \n",
      "3       1596017386905571329   \n",
      "4       1592124613789896708   \n",
      "...                     ...   \n",
      "128333   855269144572305409   \n",
      "128334   854915731405897728   \n",
      "128335   854656029098823684   \n",
      "128336   846287393766494208   \n",
      "128337   845503775251087360   \n",
      "\n",
      "                                                     Text         Username  \n",
      "0       #Demonetization was a step towards Nation Buil...     SinghKanwall  \n",
      "1       @shank009 @manusrbajpai @ShatruganSinha @Rahul...        mohniskha  \n",
      "2       @mohniskha @manusrbajpai @ShatruganSinha @Rahu...         shank009  \n",
      "3       @shank009 @manusrbajpai @ShatruganSinha @Rahul...        mohniskha  \n",
      "4       @JaipurDialogues Akela @myogiadityanath kitna ...       Nik_Debong  \n",
      "...                                                   ...              ...  \n",
      "128333  @narendramodi @HARDIKBHAVSAR10 Closure date of...  Narendra_nishad  \n",
      "128334  @PMOIndia @narendramodi @myogiadityanath \\nIn ...    anandtyagiddn  \n",
      "128335  @MeenuBetibjp1 @narendramodi @AmitShah @OmMath...    rahulraja6172  \n",
      "128336  @AJEquanimous @Swamy39 @myogiadityanath articl...   umer9103229075  \n",
      "128337  Reply to @timesofindia @myogiadityanath @TOILu...   arvind_guleria  \n",
      "\n",
      "[128338 rows x 6 columns]\n"
     ]
    }
   ],
   "source": [
    "df1=pd.read_csv(\"C:\\\\Users\\\\Shubham\\\\Desktop\\\\Amit Shah for tfidf.csv\")\n",
    "df2=pd.read_csv(\"C:\\\\Users\\\\Shubham\\\\Desktop\\\\Arvind Kejriwal for tfidf.csv\")\n",
    "df3=pd.read_csv(\"C:\\\\Users\\\\Shubham\\\\Desktop\\\\Mamata Banerjee for tfidf.csv\")\n",
    "df4=pd.read_csv(\"C:\\\\Users\\\\Shubham\\\\Desktop\\\\Narendra Modi for tfidf.csv\")\n",
    "df5=pd.read_csv(\"C:\\\\Users\\\\Shubham\\\\Desktop\\\\Rahul Gandhi for tfidf.csv\")\n",
    "df6=pd.read_csv(\"C:\\\\Users\\\\Shubham\\\\Desktop\\\\Rajnath Singh for tfidf.csv\")\n",
    "df7=pd.read_csv(\"C:\\\\Users\\\\Shubham\\\\Desktop\\\\Yogi for tfidf.csv\")\n",
    "df=pd.concat([df1, df2, df3, df4, df5, df6, df7], ignore_index=True)\n",
    "print(df)"
   ]
  },
  {
   "cell_type": "code",
   "execution_count": 3,
   "id": "a9d3e10d",
   "metadata": {},
   "outputs": [
    {
     "name": "stdout",
     "output_type": "stream",
     "text": [
      "        Unnamed: 0         Username  \\\n",
      "0                0   AshikHussainJK   \n",
      "1                1          Har1AUM   \n",
      "2                2        ajaz_awan   \n",
      "3                3      rtimuzaffar   \n",
      "4                4        Aryan3711   \n",
      "...            ...              ...   \n",
      "141082       18329  Narendra_nishad   \n",
      "141083       18330    anandtyagiddn   \n",
      "141084       18331    rahulraja6172   \n",
      "141085       18332   umer9103229075   \n",
      "141086       18333   arvind_guleria   \n",
      "\n",
      "                                               text_final  Subjectivity  \\\n",
      "0       ['pmoindia', 'narendramodi', 'amitshah', 'rajn...      0.000000   \n",
      "1       ['kuraikudam', 'amitshah', 'rssorg', 'friendso...      0.750000   \n",
      "2       ['supreme', 'court', 'go', 'start', 'hear', 'a...      0.000000   \n",
      "3       ['article', 'abrogate', 'many', 'progressive',...      0.375000   \n",
      "4       ['narendramodi', 'amitshah', 'pok', 'liya', 'b...      0.542424   \n",
      "...                                                   ...           ...   \n",
      "141082  ['narendramodi', 'closure', 'date', 'article',...      0.000000   \n",
      "141083  ['pmoindia', 'narendramodi', 'myogiadityanath'...      0.000000   \n",
      "141084  ['narendramodi', 'amitshah', 'cmofficeup', 'my...      0.000000   \n",
      "141085  ['ajequanimous', 'myogiadityanath', 'article',...      0.000000   \n",
      "141086  ['reply', 'timesofindia', 'myogiadityanath', '...      0.100000   \n",
      "\n",
      "        Polarity     score  \n",
      "0       0.000000   Neutral  \n",
      "1       0.075000  Positive  \n",
      "2       0.000000   Neutral  \n",
      "3       0.250000  Positive  \n",
      "4      -0.034545  Negative  \n",
      "...          ...       ...  \n",
      "141082  0.000000   Neutral  \n",
      "141083  0.000000   Neutral  \n",
      "141084  0.000000   Neutral  \n",
      "141085  0.000000   Neutral  \n",
      "141086  0.000000   Neutral  \n",
      "\n",
      "[141087 rows x 6 columns]\n"
     ]
    }
   ],
   "source": [
    "df1=pd.read_csv(\"C:\\\\Users\\\\Shubham\\\\Desktop\\\\tfidf leader_wise\\\\tfidf amit1.csv\")\n",
    "df2=pd.read_csv(\"C:\\\\Users\\\\Shubham\\\\Desktop\\\\tfidf leader_wise\\\\tfidf arvind1.csv\")\n",
    "df3=pd.read_csv(\"C:\\\\Users\\\\Shubham\\\\Desktop\\\\tfidf leader_wise\\\\tfidf mamata1.csv\")\n",
    "df4=pd.read_csv(\"C:\\\\Users\\\\Shubham\\\\Desktop\\\\tfidf leader_wise\\\\tfidf modi.csv\")\n",
    "df5=pd.read_csv(\"C:\\\\Users\\\\Shubham\\\\Desktop\\\\tfidf leader_wise\\\\tfidf rahul1.csv\")\n",
    "df6=pd.read_csv(\"C:\\\\Users\\\\Shubham\\\\Desktop\\\\tfidf leader_wise\\\\tfidf rajnath.csv\")\n",
    "df7=pd.read_csv(\"C:\\\\Users\\\\Shubham\\\\Desktop\\\\tfidf leader_wise\\\\tfidf yogi1.csv\")\n",
    "df=pd.concat([df1, df2, df3, df4, df5, df6, df7], ignore_index=True)\n",
    "print(df)"
   ]
  },
  {
   "cell_type": "code",
   "execution_count": 4,
   "id": "7ab14f8c",
   "metadata": {},
   "outputs": [],
   "source": [
    "df.to_csv(\"C:\\\\Users\\\\Shubham\\\\Desktop\\\\tfidf all.csv\")"
   ]
  },
  {
   "cell_type": "code",
   "execution_count": null,
   "id": "d6378d1d",
   "metadata": {},
   "outputs": [],
   "source": []
  }
 ],
 "metadata": {
  "kernelspec": {
   "display_name": "Python 3 (ipykernel)",
   "language": "python",
   "name": "python3"
  },
  "language_info": {
   "codemirror_mode": {
    "name": "ipython",
    "version": 3
   },
   "file_extension": ".py",
   "mimetype": "text/x-python",
   "name": "python",
   "nbconvert_exporter": "python",
   "pygments_lexer": "ipython3",
   "version": "3.10.9"
  }
 },
 "nbformat": 4,
 "nbformat_minor": 5
}
